{
 "cells": [
  {
   "metadata": {},
   "cell_type": "markdown",
   "source": [
    "Now that we have had extensive practice with using the `bcs` package to build chimeric PKSs, we can try using the main `RetroTide` package for the biosynthesis of targets given a custom list of starter and extender units. In this notebook, we will focus on attempting to reach only aliphatic targets. For this, we will use the more common, aliphatic starter and extender units.\n",
    "\n",
    "As a reminder, if we wish to set custom starter and extender units, then we should import `bcs` first and change `bcs.starters` as well as `bcs.extenders` before eventually importing `retrotide` and `structureDB`"
   ],
   "id": "83083863ceefa904"
  },
  {
   "metadata": {
    "ExecuteTime": {
     "end_time": "2025-02-03T19:20:37.880161Z",
     "start_time": "2025-02-03T19:20:37.875758Z"
    }
   },
   "cell_type": "code",
   "source": [
    "import bcs\n",
    "from typing import Optional, List"
   ],
   "id": "50d0617f37348f40",
   "outputs": [],
   "execution_count": 4
  },
  {
   "metadata": {
    "ExecuteTime": {
     "end_time": "2025-02-03T19:20:38.750146Z",
     "start_time": "2025-02-03T19:20:38.744598Z"
    }
   },
   "cell_type": "code",
   "source": [
    "def modify_bcs_starters_extenders(starter_codes: Optional[List[str]] = None, extender_codes: Optional[List[str]] = None):\n",
    "    \n",
    "    for key in list(bcs.starters.keys()):\n",
    "        if key not in starter_codes:\n",
    "            bcs.starters.pop(key, None) # removes key corresponding to the starter code that was not specified\n",
    "            \n",
    "    for key in list(bcs.extenders.keys()):\n",
    "        if key not in extender_codes:\n",
    "            bcs.extenders.pop(key, None) # same as above but for extenders"
   ],
   "id": "902c9221abf6763a",
   "outputs": [],
   "execution_count": 5
  },
  {
   "metadata": {},
   "cell_type": "markdown",
   "source": "Here, we will constrain our list of starter and extender units to malonyl-CoA, methylmalonyl-CoA, hydroxyacetyl-CoA, methoxymalonyl-CoA, and allylmalonyl-CoA:",
   "id": "88e491cb840ed8a1"
  },
  {
   "metadata": {},
   "cell_type": "code",
   "outputs": [],
   "execution_count": null,
   "source": [
    "starter_codes = [\"Malonyl-CoA\", \n",
    "                 \"Methylmalonyl-CoA\", \n",
    "                 \"Hydroxymalonyl-CoA\", \n",
    "                 \"mxmal\"]\n",
    "\n",
    "extender_codes = [\"Malonyl-CoA\",\n",
    "                  \"Methylmalonyl-CoA\",\n",
    "                  \"Hydroxymalonyl-CoA\",\n",
    "                  \"mxmal\",\n",
    "                  \"allylmal\"]"
   ],
   "id": "3fb25a813fb27038"
  }
 ],
 "metadata": {
  "kernelspec": {
   "display_name": "DORA_XGB_env",
   "language": "python",
   "name": "dora_xgb_env"
  },
  "language_info": {
   "codemirror_mode": {
    "name": "ipython",
    "version": 2
   },
   "file_extension": ".py",
   "mimetype": "text/x-python",
   "name": "python",
   "nbconvert_exporter": "python",
   "pygments_lexer": "ipython2",
   "version": "2.7.6"
  }
 },
 "nbformat": 4,
 "nbformat_minor": 5
}
