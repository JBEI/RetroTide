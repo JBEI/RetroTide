{
 "cells": [
  {
   "metadata": {},
   "cell_type": "markdown",
   "source": [
    "Now that we have had extensive practice with using the `bcs` package to build chimeric PKSs, we can try using the main `RetroTide` package for the biosynthesis of targets given a custom list of starter and extender units. In this notebook, we will focus on attempting to reach only aliphatic targets. For this, we will use the more common, aliphatic starter and extender units.\n",
    "\n",
    "As a reminder, if we wish to set custom starter and extender units, then we should import `bcs` first and change `bcs.starters` as well as `bcs.extenders` before eventually importing `retrotide` and `structureDB`"
   ],
   "id": "83083863ceefa904"
  },
  {
   "metadata": {
    "ExecuteTime": {
     "end_time": "2025-02-03T21:23:17.074035Z",
     "start_time": "2025-02-03T21:23:12.322043Z"
    }
   },
   "cell_type": "code",
   "source": [
    "import bcs\n",
    "from typing import Optional, List\n",
    "from rdkit import Chem\n",
    "from rdkit.Chem import AllChem"
   ],
   "id": "50d0617f37348f40",
   "outputs": [
    {
     "name": "stderr",
     "output_type": "stream",
     "text": [
      "[15:23:17] product atom-mapping number 10 not found in reactants.\n",
      "[15:23:17] product atom-mapping number 10 not found in reactants.\n",
      "[15:23:17] product atom-mapping number 10 not found in reactants.\n",
      "[15:23:17] product atom-mapping number 10 not found in reactants.\n",
      "[15:23:17] product atom-mapping number 10 not found in reactants.\n",
      "[15:23:17] product atom-mapping number 10 not found in reactants.\n",
      "[15:23:17] product atom-mapping number 10 not found in reactants.\n",
      "[15:23:17] product atom-mapping number 10 not found in reactants.\n",
      "[15:23:17] product atom-mapping number 10 not found in reactants.\n",
      "[15:23:17] product atom-mapping number 10 not found in reactants.\n",
      "[15:23:17] product atom-mapping number 10 not found in reactants.\n"
     ]
    }
   ],
   "execution_count": 1
  },
  {
   "metadata": {
    "ExecuteTime": {
     "end_time": "2025-02-03T21:23:17.081067Z",
     "start_time": "2025-02-03T21:23:17.076145Z"
    }
   },
   "cell_type": "code",
   "source": [
    "def modify_bcs_starters_extenders(starter_codes: Optional[List[str]] = None, \n",
    "                                  extender_codes: Optional[List[str]] = None):\n",
    "    \n",
    "    for key in list(bcs.starters.keys()):\n",
    "        if key not in starter_codes:\n",
    "            bcs.starters.pop(key, None) # removes key corresponding to the starter code that was not specified\n",
    "            \n",
    "    for key in list(bcs.extenders.keys()):\n",
    "        if key not in extender_codes:\n",
    "            bcs.extenders.pop(key, None) # same as above but for extenders"
   ],
   "id": "902c9221abf6763a",
   "outputs": [],
   "execution_count": 2
  },
  {
   "metadata": {},
   "cell_type": "markdown",
   "source": "Here, we will constrain our list of starter and extender units to malonyl-CoA, methylmalonyl-CoA, hydroxyacetyl-CoA, methoxymalonyl-CoA, and allylmalonyl-CoA:",
   "id": "88e491cb840ed8a1"
  },
  {
   "metadata": {
    "ExecuteTime": {
     "end_time": "2025-02-03T21:23:17.086948Z",
     "start_time": "2025-02-03T21:23:17.082812Z"
    }
   },
   "cell_type": "code",
   "source": [
    "starter_codes = [\"Malonyl-CoA\", \n",
    "                 \"Methylmalonyl-CoA\", \n",
    "                 \"Hydroxymalonyl-CoA\", \n",
    "                 \"Allymalonyl-CoA\"\n",
    "                 \"mxmal\"]\n",
    "\n",
    "extender_codes = [\"Malonyl-CoA\",\n",
    "                  \"Methylmalonyl-CoA\",\n",
    "                  \"Hydroxymalonyl-CoA\",\n",
    "                  \"mxmal\",\n",
    "                  \"allylmal\"]"
   ],
   "id": "3fb25a813fb27038",
   "outputs": [],
   "execution_count": 3
  },
  {
   "metadata": {
    "ExecuteTime": {
     "end_time": "2025-02-03T21:23:17.098137Z",
     "start_time": "2025-02-03T21:23:17.093699Z"
    }
   },
   "cell_type": "code",
   "source": [
    "modify_bcs_starters_extenders(starter_codes = starter_codes,\n",
    "                              extender_codes = extender_codes)"
   ],
   "id": "89d27bb9dd558dfa",
   "outputs": [],
   "execution_count": 4
  },
  {
   "metadata": {},
   "cell_type": "markdown",
   "source": "Now that we have set the list of starters and extenders, we can import `retrotide` as well as `structureDB`",
   "id": "2af76c0e33381e0d"
  },
  {
   "metadata": {
    "ExecuteTime": {
     "end_time": "2025-02-03T21:23:17.214843Z",
     "start_time": "2025-02-03T21:23:17.100744Z"
    }
   },
   "cell_type": "code",
   "source": "from retrotide import retrotide, structureDB",
   "id": "7a315bc38d8d4718",
   "outputs": [
    {
     "name": "stdout",
     "output_type": "stream",
     "text": [
      "\n",
      "\n",
      "\n",
      "\n",
      "\n",
      "\n",
      "\n",
      "\n",
      "\n",
      "\n",
      "\n",
      "\n",
      "\n",
      "\n",
      "\n",
      "\n",
      "\n",
      "\n",
      "\n",
      "\n",
      "\n",
      "\n",
      "\n",
      "\n",
      "\n",
      "\n",
      "\n",
      "\n",
      "\n",
      "\n",
      "\n",
      "\n",
      "\n",
      "\n",
      "\n",
      "\n",
      "\n",
      "\n",
      "\n",
      "\n",
      "\n",
      "\n",
      "\n",
      "\n",
      "\n",
      "\n",
      "\n",
      "\n",
      "\n",
      "\n",
      "\n",
      "\n",
      "\n",
      "\n",
      "\n",
      "\n",
      "\n",
      "\n",
      "\n",
      "\n",
      "\n",
      "\n",
      "\n",
      "\n",
      "\n",
      "\n",
      "\n",
      "\n",
      "\n",
      "\n",
      "\n",
      "\n",
      "\n",
      "\n",
      "\n",
      "\n",
      "\n",
      "\n",
      "\n",
      "\n",
      "\n",
      "\n",
      "\n",
      "\n",
      "\n",
      "\n",
      "\n",
      "\n",
      "\n",
      "\n",
      "\n",
      "\n",
      "\n",
      "\n",
      "\n",
      "\n",
      "[\"AT{'substrate': 'Methylmalonyl-CoA'}\", \"KR{'type': 'B1'}\", 'DH{}', 'ER{}', 'loading: False']\n",
      "[\"AT{'substrate': 'Malonyl-CoA'}\", \"KR{'type': 'B'}\", 'DH{}', 'ER{}', 'loading: False']\n",
      "[\"AT{'substrate': 'mxmal'}\", \"KR{'type': 'B1'}\", 'DH{}', 'ER{}', 'loading: False']\n",
      "[\"AT{'substrate': 'allylmal'}\", \"KR{'type': 'B1'}\", 'loading: False']\n",
      "[\"AT{'substrate': 'mxmal'}\", 'loading: False']\n",
      "[\"AT{'substrate': 'Methylmalonyl-CoA'}\", \"KR{'type': 'A1'}\", 'loading: False']\n",
      "[\"AT{'substrate': 'mxmal'}\", \"KR{'type': 'B1'}\", 'loading: False']\n",
      "[\"AT{'substrate': 'Methylmalonyl-CoA'}\", \"KR{'type': 'C2'}\", 'loading: False']\n",
      "[\"AT{'substrate': 'allylmal'}\", \"KR{'type': 'C1'}\", 'loading: False']\n",
      "[\"AT{'substrate': 'mxmal'}\", \"KR{'type': 'C1'}\", 'loading: False']\n",
      "[\"AT{'substrate': 'Methylmalonyl-CoA'}\", \"KR{'type': 'B1'}\", 'DH{}', 'loading: False']\n"
     ]
    }
   ],
   "execution_count": 5
  },
  {
   "metadata": {},
   "cell_type": "markdown",
   "source": "Finally, before we begin running RetroTide, let's define a function for releasing the bound PKS product via either a condensation or cyclization reaction catalyzed by the TE domain: ",
   "id": "d68d72b63823825e"
  },
  {
   "metadata": {
    "ExecuteTime": {
     "end_time": "2025-02-03T21:23:17.221980Z",
     "start_time": "2025-02-03T21:23:17.216627Z"
    }
   },
   "cell_type": "code",
   "source": [
    "def _pks_release_reaction(pks_release_mechanism: str, bound_product_mol: Chem.Mol) -> Chem.Mol:\n",
    "    \"\"\"\n",
    "    Run a PKS offloading reaction to release a PKS product bound to its synthase via either a thiolysis or cyclization reaction\n",
    "    \"\"\"\n",
    "\n",
    "    if pks_release_mechanism == 'thiolysis':\n",
    "        Chem.SanitizeMol(bound_product_mol)  # run detachment reaction to produce terminal acid group\n",
    "        rxn = AllChem.ReactionFromSmarts('[C:1](=[O:2])[S:3]>>[C:1](=[O:2])[O].[S:3]')\n",
    "        unbound_product_mol = rxn.RunReactants((bound_product_mol,))[0][0]\n",
    "        Chem.SanitizeMol(unbound_product_mol)\n",
    "        return unbound_product_mol\n",
    "\n",
    "    if pks_release_mechanism == 'cyclization':\n",
    "        Chem.SanitizeMol(bound_product_mol)  # run detachment reaction to cyclize bound substrate\n",
    "        rxn = AllChem.ReactionFromSmarts('([C:1](=[O:2])[S:3].[O,N:4][C:5][C:6])>>[C:1](=[O:2])[*:4][C:5][C:6].[S:3]')\n",
    "        try:\n",
    "            unbound_product_mol = rxn.RunReactants((bound_product_mol,))[0][0]\n",
    "            Chem.SanitizeMol(unbound_product_mol)\n",
    "            return unbound_product_mol\n",
    "\n",
    "        # if the bound substrate cannot be cyclized, then return None\n",
    "        except:\n",
    "            raise ValueError(\"\\nUnable to perform cyclization reaction\")"
   ],
   "id": "3195db67ea64a29",
   "outputs": [],
   "execution_count": 6
  },
  {
   "metadata": {},
   "cell_type": "markdown",
   "source": "#### Biosynthesis of 4-hydroxybutyric acid with RetroTide:",
   "id": "bd0112002555f9a0"
  },
  {
   "metadata": {
    "ExecuteTime": {
     "end_time": "2025-02-03T21:24:18.590616Z",
     "start_time": "2025-02-03T21:24:18.000581Z"
    }
   },
   "cell_type": "code",
   "source": [
    "hydroxybutyric_acid_smiles = \"C(CC(=O)O)CO\"\n",
    "hydroxybutyric_acid_mol = Chem.MolFromSmiles(hydroxybutyric_acid_smiles)\n",
    "\n",
    "designs = retrotide.designPKS(targetMol = hydroxybutyric_acid_mol,\n",
    "                              similarity = 'mcs_without_stereo')\n",
    "\n",
    "print('PKS design: ' + repr(designs[-1][0][0].modules))\n",
    "print('score: ' + str(designs[-1][0][1]))\n",
    "bound_top_PKS_product = designs[-1][0][0].computeProduct(structureDB)\n",
    "bound_top_PKS_product"
   ],
   "id": "681ac429fc6bdfbf",
   "outputs": [
    {
     "name": "stdout",
     "output_type": "stream",
     "text": [
      "computing module 1\n",
      "   testing 96 designs\n",
      "   best score is 0.7142857142857143\n",
      "computing module 2\n",
      "   testing 800 designs\n",
      "   best score is 0.6666666666666666\n",
      "PKS design: [[\"AT{'substrate': 'Hydroxymalonyl-CoA'}\", 'loading: True'], [\"AT{'substrate': 'Malonyl-CoA'}\", \"KR{'type': 'B'}\", 'DH{}', 'ER{}', 'loading: False']]\n",
      "score: 0.7142857142857143\n"
     ]
    },
    {
     "data": {
      "text/plain": [
       "<rdkit.Chem.rdchem.Mol at 0x7fee4ec007b0>"
      ],
      "image/png": "[encoded data removed]"
     },
     "execution_count": 11,
     "metadata": {},
     "output_type": "execute_result"
    }
   ],
   "execution_count": 11
  },
  {
   "metadata": {
    "ExecuteTime": {
     "end_time": "2025-02-03T21:24:18.602714Z",
     "start_time": "2025-02-03T21:24:18.592971Z"
    }
   },
   "cell_type": "code",
   "source": "_pks_release_reaction(pks_release_mechanism = 'thiolysis', bound_product_mol = bound_top_PKS_product)",
   "id": "b9c6ef2cf8d8545d",
   "outputs": [
    {
     "data": {
      "text/plain": [
       "<rdkit.Chem.rdchem.Mol at 0x7fee4ec00e40>"
      ],
      "image/png": "[encoded data removed]"
     },
     "execution_count": 12,
     "metadata": {},
     "output_type": "execute_result"
    }
   ],
   "execution_count": 12
  },
  {
   "metadata": {},
   "cell_type": "markdown",
   "source": "#### Biosynthesis of 5-ketohexanoic acid:",
   "id": "bad6cab97c7cb333"
  },
  {
   "metadata": {
    "ExecuteTime": {
     "end_time": "2025-02-03T21:29:31.233608Z",
     "start_time": "2025-02-03T21:29:29.789953Z"
    }
   },
   "cell_type": "code",
   "source": [
    "ketohexanoic_acid_smiles = \"OC(CCCC(C)=O)=O\"\n",
    "ketohexanoic_acid_mol = Chem.MolFromSmiles(ketohexanoic_acid_smiles)\n",
    "\n",
    "designs = retrotide.designPKS(targetMol = ketohexanoic_acid_mol,\n",
    "                              similarity = 'mcs_without_stereo')\n",
    "\n",
    "print('PKS design: ' + repr(designs[-1][0][0].modules))\n",
    "print('score: ' + str(designs[-1][0][1]))\n",
    "bound_top_PKS_product = designs[-1][0][0].computeProduct(structureDB)\n",
    "bound_top_PKS_product"
   ],
   "id": "9765c066514f7379",
   "outputs": [
    {
     "name": "stdout",
     "output_type": "stream",
     "text": [
      "computing module 1\n",
      "   testing 96 designs\n",
      "   best score is 0.5555555555555556\n",
      "computing module 2\n",
      "   testing 800 designs\n",
      "   best score is 0.7777777777777778\n",
      "computing module 3\n",
      "   testing 800 designs\n",
      "   best score is 0.7272727272727273\n",
      "PKS design: [[\"AT{'substrate': 'Malonyl-CoA'}\", 'loading: True'], [\"AT{'substrate': 'Malonyl-CoA'}\", 'loading: False'], [\"AT{'substrate': 'Malonyl-CoA'}\", \"KR{'type': 'B'}\", 'DH{}', 'ER{}', 'loading: False']]\n",
      "score: 0.7777777777777778\n"
     ]
    },
    {
     "data": {
      "text/plain": [
       "<rdkit.Chem.rdchem.Mol at 0x7fee4ec17b30>"
      ],
      "image/png": "[encoded data removed]"
     },
     "execution_count": 13,
     "metadata": {},
     "output_type": "execute_result"
    }
   ],
   "execution_count": 13
  },
  {
   "metadata": {
    "ExecuteTime": {
     "end_time": "2025-02-03T21:29:38.557026Z",
     "start_time": "2025-02-03T21:29:38.543936Z"
    }
   },
   "cell_type": "code",
   "source": "_pks_release_reaction(pks_release_mechanism = 'thiolysis', bound_product_mol = bound_top_PKS_product)",
   "id": "18a357d1ceb8904c",
   "outputs": [
    {
     "data": {
      "text/plain": [
       "<rdkit.Chem.rdchem.Mol at 0x7fee4f1f0cf0>"
      ],
      "image/png": "[encoded data removed]"
     },
     "execution_count": 14,
     "metadata": {},
     "output_type": "execute_result"
    }
   ],
   "execution_count": 14
  },
  {
   "metadata": {},
   "cell_type": "markdown",
   "source": "#### Biosynthesis of the Basidalin scaffold",
   "id": "b2dc041509a22fe"
  },
  {
   "metadata": {},
   "cell_type": "code",
   "outputs": [],
   "execution_count": null,
   "source": "",
   "id": "2fd2a305857c49cc"
  }
 ],
 "metadata": {
  "kernelspec": {
   "display_name": "DORA_XGB_env",
   "language": "python",
   "name": "dora_xgb_env"
  },
  "language_info": {
   "codemirror_mode": {
    "name": "ipython",
    "version": 2
   },
   "file_extension": ".py",
   "mimetype": "text/x-python",
   "name": "python",
   "nbconvert_exporter": "python",
   "pygments_lexer": "ipython2",
   "version": "2.7.6"
  }
 },
 "nbformat": 4,
 "nbformat_minor": 5
}
