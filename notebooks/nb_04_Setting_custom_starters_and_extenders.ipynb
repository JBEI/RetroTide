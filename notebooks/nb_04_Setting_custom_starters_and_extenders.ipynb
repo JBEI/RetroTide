{
 "cells": [
  {
   "metadata": {},
   "cell_type": "markdown",
   "source": [
    "Up until this point, we have used the `bcs` package extensively to design chimeric type I PKSs with varying numbers of modules and diverse domain architectures within each module. We have also experimented with building PKSs using different starter and extender units. Recall that `RetroTide` and also, `structureDB` within `RetroTide`, both rely on the `bcs` package for molecule design. Our objective is always to give users as much flexibility as they would need and there would certainly be some users who when using `RetroTide` to build a target, may not actually wish to use the full suite of starter and extender units available in `bcs`.\n",
    "\n",
    "Consequently, in this notebook, we will explore how to select only a list of starters and extenders that users may be interested in and to discard the rest."
   ],
   "id": "bb155c139721ee3"
  },
  {
   "metadata": {
    "ExecuteTime": {
     "end_time": "2025-02-03T00:02:30.047467Z",
     "start_time": "2025-02-03T00:02:30.034238Z"
    }
   },
   "cell_type": "code",
   "source": "import bcs",
   "id": "5be7b29928dc1670",
   "outputs": [],
   "execution_count": 3
  },
  {
   "metadata": {},
   "cell_type": "markdown",
   "source": "When the `bcs` package is imported, there is a function within `bcs`, which is `set_starters_extenders`, that creates a dictionary of `starters` and a dictionary of `extenders`. These are global dictionaries and can also be accessed outside the `bcs` package from this script via `bcs.starters` and `bcs.extenders`",
   "id": "302061841d5c9de1"
  },
  {
   "metadata": {
    "ExecuteTime": {
     "end_time": "2025-02-03T00:04:54.904967Z",
     "start_time": "2025-02-03T00:04:54.888413Z"
    }
   },
   "cell_type": "code",
   "source": "bcs.starters",
   "id": "4804f312cb7dfcf6",
   "outputs": [
    {
     "data": {
      "text/plain": [
       "{'Methylmalonyl-CoA': <rdkit.Chem.rdchem.Mol at 0x7f8f37746eb0>,\n",
       " 'Malonyl-CoA': <rdkit.Chem.rdchem.Mol at 0x7f8f37746f90>,\n",
       " 'Hydroxymalonyl-CoA': <rdkit.Chem.rdchem.Mol at 0x7f8f37746f20>,\n",
       " 'butmal': <rdkit.Chem.rdchem.Mol at 0x7f8f377e6040>,\n",
       " 'mxmal': <rdkit.Chem.rdchem.Mol at 0x7f8f377e60b0>,\n",
       " 'cemal': <rdkit.Chem.rdchem.Mol at 0x7f8f377e6120>,\n",
       " 'Acetyl-CoA': <rdkit.Chem.rdchem.Mol at 0x7f8f377e6190>,\n",
       " 'prop': <rdkit.Chem.rdchem.Mol at 0x7f8f377e6200>,\n",
       " 'isobut': <rdkit.Chem.rdchem.Mol at 0x7f8f377e6270>,\n",
       " '2metbut': <rdkit.Chem.rdchem.Mol at 0x7f8f377e62e0>,\n",
       " 'CHC-CoA': <rdkit.Chem.rdchem.Mol at 0x7f8f377e6350>,\n",
       " 'trans-1,2-CPDA': <rdkit.Chem.rdchem.Mol at 0x7f8f377e63c0>,\n",
       " 'cyclopentene': <rdkit.Chem.rdchem.Mol at 0x7f8f377e6430>,\n",
       " 'pyr': <rdkit.Chem.rdchem.Mol at 0x7f8f377e64a0>,\n",
       " 'cin': <rdkit.Chem.rdchem.Mol at 0x7f8f377e6510>,\n",
       " 'AHBA': <rdkit.Chem.rdchem.Mol at 0x7f8f377e6580>,\n",
       " 'isoval': <rdkit.Chem.rdchem.Mol at 0x7f8f377e65f0>,\n",
       " 'PABA': <rdkit.Chem.rdchem.Mol at 0x7f8f377e6660>,\n",
       " 'DCP': <rdkit.Chem.rdchem.Mol at 0x7f8f377e66d0>,\n",
       " 'guan': <rdkit.Chem.rdchem.Mol at 0x7f8f377e6740>,\n",
       " 'mthz': <rdkit.Chem.rdchem.Mol at 0x7f8f377e67b0>,\n",
       " 'DHCH': <rdkit.Chem.rdchem.Mol at 0x7f8f377e6820>,\n",
       " 'DHCHene': <rdkit.Chem.rdchem.Mol at 0x7f8f377e6890>,\n",
       " 'plac': <rdkit.Chem.rdchem.Mol at 0x7f8f377e6900>,\n",
       " 'benz': <rdkit.Chem.rdchem.Mol at 0x7f8f377e6970>,\n",
       " 'PNBA': <rdkit.Chem.rdchem.Mol at 0x7f8f377e69e0>,\n",
       " 'ema': <rdkit.Chem.rdchem.Mol at 0x7f8f377e6a50>,\n",
       " '3measp': <rdkit.Chem.rdchem.Mol at 0x7f8f377e6ac0>}"
      ]
     },
     "execution_count": 4,
     "metadata": {},
     "output_type": "execute_result"
    }
   ],
   "execution_count": 4
  },
  {
   "metadata": {
    "ExecuteTime": {
     "end_time": "2025-02-03T00:04:58.239940Z",
     "start_time": "2025-02-03T00:04:58.232874Z"
    }
   },
   "cell_type": "code",
   "source": "bcs.extenders",
   "id": "492f88a01a59e50a",
   "outputs": [
    {
     "data": {
      "text/plain": [
       "{'Malonyl-CoA': <rdkit.Chem.rdchem.Mol at 0x7f8f377e6c80>,\n",
       " 'Methylmalonyl-CoA': <rdkit.Chem.rdchem.Mol at 0x7f8f377e6c10>,\n",
       " 'mxmal': <rdkit.Chem.rdchem.Mol at 0x7f8f377e6b30>,\n",
       " 'emal': <rdkit.Chem.rdchem.Mol at 0x7f8f377e6cf0>,\n",
       " 'allylmal': <rdkit.Chem.rdchem.Mol at 0x7f8f377e6d60>,\n",
       " 'butmal': <rdkit.Chem.rdchem.Mol at 0x7f8f377e6dd0>,\n",
       " 'hmal': <rdkit.Chem.rdchem.Mol at 0x7f8f377e6e40>,\n",
       " 'isobutmal': <rdkit.Chem.rdchem.Mol at 0x7f8f377e6eb0>,\n",
       " 'D-isobutmal': <rdkit.Chem.rdchem.Mol at 0x7f8f377e6f20>,\n",
       " 'DCP': <rdkit.Chem.rdchem.Mol at 0x7f8f377e6f90>,\n",
       " 'hexmal': <rdkit.Chem.rdchem.Mol at 0x7f8f377e8040>}"
      ]
     },
     "execution_count": 5,
     "metadata": {},
     "output_type": "execute_result"
    }
   ],
   "execution_count": 5
  },
  {
   "metadata": {},
   "cell_type": "code",
   "outputs": [],
   "execution_count": null,
   "source": "",
   "id": "b50aedc951295f36"
  }
 ],
 "metadata": {
  "kernelspec": {
   "display_name": "DORA_XGB_env",
   "language": "python",
   "name": "dora_xgb_env"
  },
  "language_info": {
   "codemirror_mode": {
    "name": "ipython",
    "version": 2
   },
   "file_extension": ".py",
   "mimetype": "text/x-python",
   "name": "python",
   "nbconvert_exporter": "python",
   "pygments_lexer": "ipython2",
   "version": "2.7.6"
  }
 },
 "nbformat": 4,
 "nbformat_minor": 5
}
