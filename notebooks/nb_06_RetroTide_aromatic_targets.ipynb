{
 "cells": [
  {
   "metadata": {},
   "cell_type": "markdown",
   "source": "In the previous notebook, we looked extensively at designing non-aromatic molecules in RetroTide using a custom set of starters and extenders. We will perform a similar analysis in this notebook but by expanding our starter and extender set to attempt the biosynthesis of more complex, aromatic molecules",
   "id": "690f8d88ae93855f"
  },
  {
   "metadata": {
    "ExecuteTime": {
     "end_time": "2025-02-03T23:08:27.788443Z",
     "start_time": "2025-02-03T23:08:27.343177Z"
    }
   },
   "cell_type": "code",
   "source": [
    "import bcs\n",
    "from typing import Optional, List\n",
    "from rdkit import Chem\n",
    "from rdkit.Chem import AllChem"
   ],
   "id": "bbd18546a10dd9df",
   "outputs": [
    {
     "ename": "ModuleNotFoundError",
     "evalue": "No module named 'bcs'",
     "output_type": "error",
     "traceback": [
      "\u001B[0;31m---------------------------------------------------------------------------\u001B[0m",
      "\u001B[0;31mModuleNotFoundError\u001B[0m                       Traceback (most recent call last)",
      "Cell \u001B[0;32mIn[1], line 1\u001B[0m\n\u001B[0;32m----> 1\u001B[0m \u001B[38;5;28;01mimport\u001B[39;00m \u001B[38;5;21;01mbcs\u001B[39;00m\n\u001B[1;32m      2\u001B[0m \u001B[38;5;28;01mfrom\u001B[39;00m \u001B[38;5;21;01mtyping\u001B[39;00m \u001B[38;5;28;01mimport\u001B[39;00m Optional, List\n\u001B[1;32m      3\u001B[0m \u001B[38;5;28;01mfrom\u001B[39;00m \u001B[38;5;21;01mrdkit\u001B[39;00m \u001B[38;5;28;01mimport\u001B[39;00m Chem\n",
      "\u001B[0;31mModuleNotFoundError\u001B[0m: No module named 'bcs'"
     ]
    }
   ],
   "execution_count": 1
  },
  {
   "metadata": {},
   "cell_type": "code",
   "outputs": [],
   "execution_count": null,
   "source": [
    "def modify_bcs_starters_extenders(starter_codes: Optional[List[str]] = None, \n",
    "                                  extender_codes: Optional[List[str]] = None):\n",
    "    \n",
    "    for key in list(bcs.starters.keys()):\n",
    "        if key not in starter_codes:\n",
    "            bcs.starters.pop(key, None) # removes key corresponding to the starter code that was not specified\n",
    "            \n",
    "    for key in list(bcs.extenders.keys()):\n",
    "        if key not in extender_codes:\n",
    "            bcs.extenders.pop(key, None) # same as above but for extenders"
   ],
   "id": "27439f7ed7efde29"
  }
 ],
 "metadata": {
  "kernelspec": {
   "display_name": "DORA_XGB_env",
   "language": "python",
   "name": "dora_xgb_env"
  },
  "language_info": {
   "codemirror_mode": {
    "name": "ipython",
    "version": 2
   },
   "file_extension": ".py",
   "mimetype": "text/x-python",
   "name": "python",
   "nbconvert_exporter": "python",
   "pygments_lexer": "ipython2",
   "version": "2.7.6"
  }
 },
 "nbformat": 4,
 "nbformat_minor": 5
}
