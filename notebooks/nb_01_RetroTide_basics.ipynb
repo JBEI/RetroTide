{
 "cells": [
  {
   "cell_type": "code",
   "execution_count": 47,
   "id": "0453b93c",
   "metadata": {},
   "outputs": [],
   "source": [
    "from retrotide import retrotide, structureDB"
   ]
  },
  {
   "cell_type": "code",
   "execution_count": 57,
   "id": "faea760e",
   "metadata": {},
   "outputs": [],
   "source": [
    "import bcs"
   ]
  },
  {
   "cell_type": "code",
   "execution_count": 84,
   "id": "a675bbfe",
   "metadata": {},
   "outputs": [],
   "source": [
    "### Loading module\n",
    "at_domain = bcs.AT(active = True, substrate = \"Acetyl-CoA\")\n",
    "loading_module_at = bcs.Module(domains = {bcs.AT: at_domain}, loading = True)\n",
    "\n",
    "### Module 1\n",
    "at_domain = bcs.AT(active = True, substrate = \"Malonyl-CoA\")\n",
    "kr_domain = bcs.KR(active = True, type = \"B\")\n",
    "dh_domain = bcs.DH(active = True)\n",
    "er_domain = bcs.ER(active = True)\n",
    "module1_AT_KR = bcs.Module(domains = {bcs.AT: at_domain, \n",
    "                                      bcs.KR: kr_domain,\n",
    "                                      bcs.DH: dh_domain,\n",
    "                                      bcs.ER: er_domain}, loading = False)"
   ]
  },
  {
   "cell_type": "code",
   "execution_count": 85,
   "id": "ae8ecf39",
   "metadata": {},
   "outputs": [
    {
     "data": {
      "image/png": "[encoded data removed]",
      "text/plain": [
       "<rdkit.Chem.rdchem.Mol at 0x149bd7c10>"
      ]
     },
     "execution_count": 85,
     "metadata": {},
     "output_type": "execute_result"
    }
   ],
   "source": [
    "cluster = bcs.Cluster(modules = [loading_module_at, module1_AT_KR])\n",
    "cluster.computeProduct(structureDB)"
   ]
  },
  {
   "cell_type": "code",
   "execution_count": 52,
   "id": "029d0db9",
   "metadata": {},
   "outputs": [],
   "source": [
    "loading_module_domains = {\"AT\": bcs.AT(active=True, substrate = 'Methylmalonyl-CoA')}"
   ]
  },
  {
   "cell_type": "code",
   "execution_count": 53,
   "id": "1d72b39c",
   "metadata": {
    "scrolled": false
   },
   "outputs": [
    {
     "ename": "KeyError",
     "evalue": "<class 'bcs.bcs.AT'>",
     "output_type": "error",
     "traceback": [
      "\u001b[0;31m---------------------------------------------------------------------------\u001b[0m",
      "\u001b[0;31mKeyError\u001b[0m                                  Traceback (most recent call last)",
      "Cell \u001b[0;32mIn[53], line 3\u001b[0m\n\u001b[1;32m      1\u001b[0m loading_module \u001b[38;5;241m=\u001b[39m bcs\u001b[38;5;241m.\u001b[39mModule(loading_module_domains, loading \u001b[38;5;241m=\u001b[39m \u001b[38;5;28;01mTrue\u001b[39;00m)\n\u001b[1;32m      2\u001b[0m cluster \u001b[38;5;241m=\u001b[39m bcs\u001b[38;5;241m.\u001b[39mCluster(modules \u001b[38;5;241m=\u001b[39m [loading_module])\n\u001b[0;32m----> 3\u001b[0m \u001b[43mcluster\u001b[49m\u001b[38;5;241;43m.\u001b[39;49m\u001b[43mcomputeProduct\u001b[49m\u001b[43m(\u001b[49m\u001b[43mstructureDB\u001b[49m\u001b[43m)\u001b[49m\n",
      "File \u001b[0;32m~/PycharmProjects/RetroTideV2/bcs/bcs.py:192\u001b[0m, in \u001b[0;36mCluster.computeProduct\u001b[0;34m(self, structureDB, chain)\u001b[0m\n\u001b[1;32m    188\u001b[0m         Chem\u001b[38;5;241m.\u001b[39mSanitizeMol(prod)\n\u001b[1;32m    190\u001b[0m     \u001b[38;5;28;01melse\u001b[39;00m:\n\u001b[1;32m    191\u001b[0m         \u001b[38;5;66;03m# starter module\u001b[39;00m\n\u001b[0;32m--> 192\u001b[0m         prod \u001b[38;5;241m=\u001b[39m starters[\u001b[43mmodule\u001b[49m\u001b[38;5;241;43m.\u001b[39;49m\u001b[43mdomains\u001b[49m\u001b[43m[\u001b[49m\u001b[43mAT\u001b[49m\u001b[43m]\u001b[49m\u001b[38;5;241m.\u001b[39msubstrate]\n\u001b[1;32m    194\u001b[0m \u001b[38;5;28;01mreturn\u001b[39;00m prod\n",
      "\u001b[0;31mKeyError\u001b[0m: <class 'bcs.bcs.AT'>"
     ]
    }
   ],
   "source": [
    "loading_module = bcs.Module(loading_module_domains, loading = True)\n",
    "cluster = bcs.Cluster(modules = [loading_module])\n",
    "cluster.computeProduct(structureDB)"
   ]
  },
  {
   "cell_type": "code",
   "execution_count": 54,
   "id": "e24e99bc",
   "metadata": {},
   "outputs": [
    {
     "ename": "AttributeError",
     "evalue": "'Cluster' object has no attribute 'domains'",
     "output_type": "error",
     "traceback": [
      "\u001b[0;31m---------------------------------------------------------------------------\u001b[0m",
      "\u001b[0;31mAttributeError\u001b[0m                            Traceback (most recent call last)",
      "Cell \u001b[0;32mIn[54], line 1\u001b[0m\n\u001b[0;32m----> 1\u001b[0m \u001b[43mcluster\u001b[49m\u001b[38;5;241;43m.\u001b[39;49m\u001b[43mdomains\u001b[49m\n",
      "\u001b[0;31mAttributeError\u001b[0m: 'Cluster' object has no attribute 'domains'"
     ]
    }
   ],
   "source": [
    "cluster.domains"
   ]
  },
  {
   "cell_type": "code",
   "execution_count": 55,
   "id": "aebef7e8",
   "metadata": {},
   "outputs": [
    {
     "ename": "NameError",
     "evalue": "name 'starters' is not defined",
     "output_type": "error",
     "traceback": [
      "\u001b[0;31m---------------------------------------------------------------------------\u001b[0m",
      "\u001b[0;31mNameError\u001b[0m                                 Traceback (most recent call last)",
      "Cell \u001b[0;32mIn[55], line 1\u001b[0m\n\u001b[0;32m----> 1\u001b[0m \u001b[43mstarters\u001b[49m\n",
      "\u001b[0;31mNameError\u001b[0m: name 'starters' is not defined"
     ]
    }
   ],
   "source": [
    "starters"
   ]
  },
  {
   "cell_type": "code",
   "execution_count": 27,
   "id": "db2c6d12",
   "metadata": {
    "scrolled": false
   },
   "outputs": [
    {
     "data": {
      "text/plain": [
       "{[\"AT{'substrate': 'butmal'}\", 'loading: False']: <rdkit.Chem.rdchem.Mol at 0x14821fcf0>,\n",
       " [\"AT{'substrate': 'allylmal'}\", \"KR{'type': 'B1'}\", 'DH{}', 'loading: False']: <rdkit.Chem.rdchem.Mol at 0x14822a120>,\n",
       " [\"AT{'substrate': 'mxmal'}\", \"KR{'type': 'B1'}\", 'DH{}', 'loading: False']: <rdkit.Chem.rdchem.Mol at 0x14822a190>,\n",
       " [\"AT{'substrate': 'allylmal'}\", \"KR{'type': 'B1'}\", 'loading: False']: <rdkit.Chem.rdchem.Mol at 0x14822a350>,\n",
       " [\"AT{'substrate': 'allylmal'}\", 'loading: False']: <rdkit.Chem.rdchem.Mol at 0x14821fc80>,\n",
       " [\"AT{'substrate': 'emal'}\", \"KR{'type': 'B1'}\", 'DH{}', 'ER{}', 'loading: False']: <rdkit.Chem.rdchem.Mol at 0x14822a270>,\n",
       " [\"AT{'substrate': 'D-isobutmal'}\", \"KR{'type': 'B1'}\", 'DH{}', 'loading: False']: <rdkit.Chem.rdchem.Mol at 0x14822a200>,\n",
       " [\"AT{'substrate': 'mxmal'}\", \"KR{'type': 'B1'}\", 'DH{}', 'ER{}', 'loading: False']: <rdkit.Chem.rdchem.Mol at 0x14822a510>,\n",
       " [\"AT{'substrate': 'isobutmal'}\", \"KR{'type': 'B1'}\", 'loading: False']: <rdkit.Chem.rdchem.Mol at 0x14822a4a0>,\n",
       " [\"AT{'substrate': 'emal'}\", 'loading: False']: <rdkit.Chem.rdchem.Mol at 0x14821fc10>,\n",
       " [\"AT{'substrate': 'isobutmal'}\", 'loading: False']: <rdkit.Chem.rdchem.Mol at 0x14821fdd0>,\n",
       " [\"AT{'substrate': 'D-isobutmal'}\", 'loading: False']: <rdkit.Chem.rdchem.Mol at 0x14821fe40>,\n",
       " [\"AT{'substrate': 'isobutmal'}\", \"KR{'type': 'B1'}\", 'DH{}', 'loading: False']: <rdkit.Chem.rdchem.Mol at 0x14822a5f0>,\n",
       " [\"AT{'substrate': 'hexmal'}\", \"KR{'type': 'C1'}\", 'loading: False']: <rdkit.Chem.rdchem.Mol at 0x14822a7b0>,\n",
       " [\"AT{'substrate': 'emal'}\", \"KR{'type': 'C1'}\", 'loading: False']: <rdkit.Chem.rdchem.Mol at 0x14822a740>,\n",
       " [\"AT{'substrate': 'mxmal'}\", 'loading: False']: <rdkit.Chem.rdchem.Mol at 0x14821fa50>,\n",
       " [\"AT{'substrate': 'Methylmalonyl-CoA'}\", \"KR{'type': 'C1'}\", 'loading: False']: <rdkit.Chem.rdchem.Mol at 0x14822a820>,\n",
       " [\"AT{'substrate': 'hexmal'}\", 'loading: False']: <rdkit.Chem.rdchem.Mol at 0x14821ff20>,\n",
       " [\"AT{'substrate': 'Methylmalonyl-CoA'}\", \"KR{'type': 'B1'}\", 'DH{}', 'ER{}', 'loading: False']: <rdkit.Chem.rdchem.Mol at 0x14822a900>,\n",
       " [\"AT{'substrate': 'hexmal'}\", \"KR{'type': 'B1'}\", 'DH{}', 'loading: False']: <rdkit.Chem.rdchem.Mol at 0x14822a890>,\n",
       " [\"AT{'substrate': 'butmal'}\", \"KR{'type': 'B1'}\", 'DH{}', 'ER{}', 'loading: False']: <rdkit.Chem.rdchem.Mol at 0x14822aac0>,\n",
       " [\"AT{'substrate': 'Malonyl-CoA'}\", \"KR{'type': 'B'}\", 'DH{}', 'ER{}', 'loading: False']: <rdkit.Chem.rdchem.Mol at 0x14822a970>,\n",
       " [\"AT{'substrate': 'hmal'}\", \"KR{'type': 'C1'}\", 'loading: False']: <rdkit.Chem.rdchem.Mol at 0x14822aa50>,\n",
       " [\"AT{'substrate': 'DCP'}\", 'loading: False']: <rdkit.Chem.rdchem.Mol at 0x14821feb0>,\n",
       " [\"AT{'substrate': 'D-isobutmal'}\", \"KR{'type': 'B1'}\", 'loading: False']: <rdkit.Chem.rdchem.Mol at 0x14822aba0>,\n",
       " [\"AT{'substrate': 'allylmal'}\", \"KR{'type': 'C1'}\", 'loading: False']: <rdkit.Chem.rdchem.Mol at 0x14822ac10>,\n",
       " [\"AT{'substrate': 'mxmal'}\", \"KR{'type': 'B1'}\", 'loading: False']: <rdkit.Chem.rdchem.Mol at 0x14822ac80>,\n",
       " [\"AT{'substrate': 'allylmal'}\", \"KR{'type': 'B1'}\", 'DH{}', 'ER{}', 'loading: False']: <rdkit.Chem.rdchem.Mol at 0x14822acf0>,\n",
       " [\"AT{'substrate': 'Malonyl-CoA'}\", \"KR{'type': 'B'}\", 'loading: False']: <rdkit.Chem.rdchem.Mol at 0x14822ad60>,\n",
       " [\"AT{'substrate': 'butmal'}\", \"KR{'type': 'B1'}\", 'DH{}', 'loading: False']: <rdkit.Chem.rdchem.Mol at 0x14822ab30>,\n",
       " [\"AT{'substrate': 'butmal'}\", \"KR{'type': 'B1'}\", 'loading: False']: <rdkit.Chem.rdchem.Mol at 0x14822af20>,\n",
       " [\"AT{'substrate': 'isobutmal'}\", \"KR{'type': 'C1'}\", 'loading: False']: <rdkit.Chem.rdchem.Mol at 0x14822aeb0>,\n",
       " [\"AT{'substrate': 'DCP'}\", \"KR{'type': 'B1'}\", 'loading: False']: <rdkit.Chem.rdchem.Mol at 0x14822ae40>,\n",
       " [\"AT{'substrate': 'DCP'}\", \"KR{'type': 'B1'}\", 'DH{}', 'ER{}', 'loading: False']: <rdkit.Chem.rdchem.Mol at 0x14822af90>,\n",
       " [\"AT{'substrate': 'emal'}\", \"KR{'type': 'B1'}\", 'DH{}', 'loading: False']: <rdkit.Chem.rdchem.Mol at 0x14822add0>,\n",
       " [\"AT{'substrate': 'hexmal'}\", \"KR{'type': 'B1'}\", 'DH{}', 'ER{}', 'loading: False']: <rdkit.Chem.rdchem.Mol at 0x148238190>,\n",
       " [\"AT{'substrate': 'DCP'}\", \"KR{'type': 'B1'}\", 'DH{}', 'loading: False']: <rdkit.Chem.rdchem.Mol at 0x148238040>,\n",
       " [\"AT{'substrate': 'hmal'}\", 'loading: False']: <rdkit.Chem.rdchem.Mol at 0x14821fd60>,\n",
       " [\"AT{'substrate': 'isobutmal'}\", \"KR{'type': 'B1'}\", 'DH{}', 'ER{}', 'loading: False']: <rdkit.Chem.rdchem.Mol at 0x148238200>,\n",
       " [\"AT{'substrate': 'D-isobutmal'}\", \"KR{'type': 'B1'}\", 'DH{}', 'ER{}', 'loading: False']: <rdkit.Chem.rdchem.Mol at 0x1482380b0>,\n",
       " [\"AT{'substrate': 'Methylmalonyl-CoA'}\", 'loading: False']: <rdkit.Chem.rdchem.Mol at 0x14821fb30>,\n",
       " [\"AT{'substrate': 'Malonyl-CoA'}\", 'loading: False']: <rdkit.Chem.rdchem.Mol at 0x14821fba0>,\n",
       " [\"AT{'substrate': 'hexmal'}\", \"KR{'type': 'B1'}\", 'loading: False']: <rdkit.Chem.rdchem.Mol at 0x148238350>,\n",
       " [\"AT{'substrate': 'Malonyl-CoA'}\", \"KR{'type': 'B'}\", 'DH{}', 'loading: False']: <rdkit.Chem.rdchem.Mol at 0x148238430>,\n",
       " [\"AT{'substrate': 'hmal'}\", \"KR{'type': 'B1'}\", 'DH{}', 'ER{}', 'loading: False']: <rdkit.Chem.rdchem.Mol at 0x1482382e0>,\n",
       " [\"AT{'substrate': 'emal'}\", \"KR{'type': 'B1'}\", 'loading: False']: <rdkit.Chem.rdchem.Mol at 0x1482384a0>,\n",
       " [\"AT{'substrate': 'Methylmalonyl-CoA'}\", \"KR{'type': 'B1'}\", 'loading: False']: <rdkit.Chem.rdchem.Mol at 0x148238510>,\n",
       " [\"AT{'substrate': 'butmal'}\", \"KR{'type': 'C1'}\", 'loading: False']: <rdkit.Chem.rdchem.Mol at 0x148238580>,\n",
       " [\"AT{'substrate': 'mxmal'}\", \"KR{'type': 'C1'}\", 'loading: False']: <rdkit.Chem.rdchem.Mol at 0x1482385f0>,\n",
       " [\"AT{'substrate': 'hmal'}\", \"KR{'type': 'B1'}\", 'DH{}', 'loading: False']: <rdkit.Chem.rdchem.Mol at 0x1482383c0>,\n",
       " [\"AT{'substrate': 'Methylmalonyl-CoA'}\", \"KR{'type': 'B1'}\", 'DH{}', 'loading: False']: <rdkit.Chem.rdchem.Mol at 0x148238660>,\n",
       " [\"AT{'substrate': 'D-isobutmal'}\", \"KR{'type': 'C1'}\", 'loading: False']: <rdkit.Chem.rdchem.Mol at 0x148238820>,\n",
       " [\"AT{'substrate': 'DCP'}\", \"KR{'type': 'C1'}\", 'loading: False']: <rdkit.Chem.rdchem.Mol at 0x1482386d0>,\n",
       " [\"AT{'substrate': 'hmal'}\", \"KR{'type': 'B1'}\", 'loading: False']: <rdkit.Chem.rdchem.Mol at 0x148238740>}"
      ]
     },
     "execution_count": 27,
     "metadata": {},
     "output_type": "execute_result"
    }
   ],
   "source": [
    "structureDB"
   ]
  },
  {
   "cell_type": "code",
   "execution_count": null,
   "id": "eca0e2ac",
   "metadata": {},
   "outputs": [],
   "source": []
  }
 ],
 "metadata": {
  "kernelspec": {
   "display_name": "test_env",
   "language": "python",
   "name": "your-environment-name"
  },
  "language_info": {
   "codemirror_mode": {
    "name": "ipython",
    "version": 3
   },
   "file_extension": ".py",
   "mimetype": "text/x-python",
   "name": "python",
   "nbconvert_exporter": "python",
   "pygments_lexer": "ipython3",
   "version": "3.8.20"
  }
 },
 "nbformat": 4,
 "nbformat_minor": 5
}
