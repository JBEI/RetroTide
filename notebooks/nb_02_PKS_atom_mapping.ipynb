{
 "cells": [
  {
   "cell_type": "markdown",
   "id": "95fedac7-2a07-48dc-9d8b-76e8f292f8b0",
   "metadata": {},
   "source": "In the previous notebook, we explored the basics of the `bcs` package which eventually, `retrotide` will call upon to build a chimeric PKS given a target molecule. Since PKSs tend to produce large, structurally complex molecules in an assembly-line fashion, it can often be quite helpful to track the actions of individual domains and modules as well as to connect the addition or transformation of specific carbons in a PKS substrate to specific modules."
  },
  {
   "cell_type": "code",
   "id": "77b88919-405d-4b28-94d5-fa096c2c36d4",
   "metadata": {
    "ExecuteTime": {
     "end_time": "2025-02-02T16:13:31.288699Z",
     "start_time": "2025-02-02T16:13:31.275730Z"
    }
   },
   "source": [
    "from retrotide import retrotide, structureDB"
   ],
   "outputs": [],
   "execution_count": 7
  },
  {
   "cell_type": "code",
   "id": "6f98e1fb-90e7-49d8-aea2-687ff6c8ca91",
   "metadata": {
    "ExecuteTime": {
     "end_time": "2025-02-02T16:13:31.511142Z",
     "start_time": "2025-02-02T16:13:31.507459Z"
    }
   },
   "source": [
    "import bcs"
   ],
   "outputs": [],
   "execution_count": 8
  },
  {
   "cell_type": "code",
   "id": "846e4a6a-4cb1-4661-b5cf-6efd7310ebc6",
   "metadata": {
    "ExecuteTime": {
     "end_time": "2025-02-02T16:13:31.847182Z",
     "start_time": "2025-02-02T16:13:31.842203Z"
    }
   },
   "source": [
    "from rdkit import Chem\n",
    "from rdkit.Chem import AllChem, rdFMCS, rdmolops\n",
    "from rdkit.Chem.rdchem import Mol\n",
    "from typing import List, Tuple"
   ],
   "outputs": [],
   "execution_count": 9
  },
  {
   "metadata": {},
   "cell_type": "markdown",
   "source": "### Attempting to atom-map PKS products generated from a single loading module",
   "id": "d61f5a197acecb21"
  },
  {
   "metadata": {
    "ExecuteTime": {
     "end_time": "2025-01-30T10:21:59.300992Z",
     "start_time": "2025-01-30T10:21:59.290626Z"
    }
   },
   "cell_type": "code",
   "source": [
    "loading_AT_domain = bcs.AT(active = True, substrate = \"benz\")\n",
    "loading_module = bcs.Module(domains = {bcs.AT: loading_AT_domain}, loading = True)\n",
    "\n",
    "mod1_AT_domain = bcs.AT(active = True, substrate = \"Methylmalonyl-CoA\")\n",
    "module1 = bcs.Module(domains = {bcs.AT: mod1_AT_domain}, loading = False)\n",
    "\n",
    "cluster  = bcs.Cluster(modules = [loading_module, module1])"
   ],
   "id": "d756309162a612e5",
   "outputs": [],
   "execution_count": 13
  },
  {
   "metadata": {
    "ExecuteTime": {
     "end_time": "2025-01-30T10:21:59.328900Z",
     "start_time": "2025-01-30T10:21:59.305603Z"
    }
   },
   "cell_type": "code",
   "source": [
    "PKS_product = cluster.computeProduct(structureDB)\n",
    "PKS_product"
   ],
   "id": "801aca28f9ba269c",
   "outputs": [
    {
     "data": {
      "text/plain": [
       "<rdkit.Chem.rdchem.Mol at 0x7fd151003580>"
      ],
      "image/png": "[encoded data removed]"
     },
     "execution_count": 14,
     "metadata": {},
     "output_type": "execute_result"
    }
   ],
   "execution_count": 14
  },
  {
   "metadata": {
    "ExecuteTime": {
     "end_time": "2025-01-30T10:21:59.355753Z",
     "start_time": "2025-01-30T10:21:59.332337Z"
    }
   },
   "cell_type": "code",
   "source": [
    "for atom in PKS_product.GetAtoms():\n",
    "    atom.SetProp(\"atomLabel\", str(atom.GetIdx()))\n",
    "    \n",
    "PKS_product"
   ],
   "id": "5d53e6e1a02c782c",
   "outputs": [
    {
     "data": {
      "text/plain": [
       "<rdkit.Chem.rdchem.Mol at 0x7fd151003580>"
      ],
      "image/png": "[encoded data removed]"
     },
     "execution_count": 15,
     "metadata": {},
     "output_type": "execute_result"
    }
   ],
   "execution_count": 15
  },
  {
   "metadata": {
    "ExecuteTime": {
     "end_time": "2025-01-30T10:22:05.669198Z",
     "start_time": "2025-01-30T10:22:05.662455Z"
    }
   },
   "cell_type": "code",
   "source": [
    "def find_farthest_carbon_from_sulfur(PKS_product: Mol) -> Tuple[int, int]:\n",
    "    \"\"\"\n",
    "    Takes a PKS product and finds the carbon atom that is farthest from the sulfur radical.\n",
    "    This sulfur radical is merely a placeholder for a bond to the ACP protein or to a -CoA group\n",
    "    \"\"\"\n",
    "    # first, we identify the sulfur atom in the PKS product\n",
    "    sulfur_idx = None\n",
    "    for atom in PKS_product.GetAtoms():\n",
    "        if atom.GetSymbol() == \"S\":\n",
    "            sulfur_idx = atom.GetIdx()\n",
    "            break\n",
    "    \n",
    "    if sulfur_idx is None:\n",
    "        raise ValueError(\"No sulfur atom found in the molecule.\")\n",
    "    \n",
    "    # then, grab the atom indices of all carbon atoms in this PKS substrate\n",
    "    carbon_indices = [atom.GetIdx() for atom in PKS_product.GetAtoms() if atom.GetSymbol() == \"C\"]\n",
    "    \n",
    "    if not carbon_indices:\n",
    "        raise ValueError(\"No carbon atoms found in the molecule.\")\n",
    "    \n",
    "    # compute the shortest path distances from sulfur\n",
    "    distances = rdmolops.GetDistanceMatrix(PKS_product)\n",
    "    \n",
    "    # find the farthest carbon atom\n",
    "    farthest_carbon_idx = max(carbon_indices, key = lambda idx: distances[sulfur_idx, idx])\n",
    "    farthest_distance = distances[sulfur_idx, farthest_carbon_idx]\n",
    "    \n",
    "    return farthest_carbon_idx, farthest_distance"
   ],
   "id": "e68c6366c35f2dbd",
   "outputs": [],
   "execution_count": 16
  },
  {
   "metadata": {
    "ExecuteTime": {
     "end_time": "2025-01-30T10:22:06.376160Z",
     "start_time": "2025-01-30T10:22:06.371088Z"
    }
   },
   "cell_type": "code",
   "source": [
    "farthest_carbon_idx, farthest_distance = find_farthest_carbon_from_sulfur(PKS_product)\n",
    "print(f\"Farthest carbon atom index: {farthest_carbon_idx}, Distance: {farthest_distance}\")"
   ],
   "id": "d5feb1ce44968b5f",
   "outputs": [
    {
     "name": "stdout",
     "output_type": "stream",
     "text": [
      "Farthest carbon atom index: 7, Distance: 7.0\n"
     ]
    }
   ],
   "execution_count": 17
  },
  {
   "metadata": {
    "ExecuteTime": {
     "end_time": "2025-01-30T10:22:07.765339Z",
     "start_time": "2025-01-30T10:22:07.761276Z"
    }
   },
   "cell_type": "code",
   "source": [
    "def add_fluorine_to_farthest_carbon(PKS_product: Mol, farthest_carbon_idx: int) -> Mol:\n",
    "\n",
    "    editable_mol = Chem.EditableMol(PKS_product)\n",
    "    fluorine_idx = editable_mol.AddAtom(Chem.Atom(\"F\"))\n",
    "\n",
    "    # add a bond between the specific carbon atom (e.g., index 1) and fluorine\n",
    "    editable_mol.AddBond(farthest_carbon_idx, fluorine_idx, Chem.rdchem.BondType.SINGLE)\n",
    "\n",
    "    PKS_product_w_F = editable_mol.GetMol()\n",
    "    \n",
    "    return PKS_product_w_F"
   ],
   "id": "1860eea2102fe079",
   "outputs": [],
   "execution_count": 18
  },
  {
   "metadata": {
    "ExecuteTime": {
     "end_time": "2025-01-30T10:22:08.083267Z",
     "start_time": "2025-01-30T10:22:08.077540Z"
    }
   },
   "cell_type": "code",
   "source": [
    "def replace_fluorine_with_CoA(PKS_product_w_F):\n",
    "    \n",
    "    attach_CoA_rxn_pattern = '[C,c:1]-[F:2].[S:3]>>[C,c:1]-[S:3].[F:2]'\n",
    "    attach_CoA_rxn = AllChem.ReactionFromSmarts(attach_CoA_rxn_pattern)\n",
    "    \n",
    "    CoA_group = Chem.MolFromSmiles('CC(C)(COP(=O)(O)OP(=O)(O)OC[C@@H]1[C@H]([C@H]([C@@H](O1)N2C=NC3=C(N=CN=C32)N)O)OP(=O)(O)O)[C@H](C(=O)NCCC(=O)NCCS)O')\n",
    "    \n",
    "    for atom in CoA_group.GetAtoms():\n",
    "        atom.SetProp(\"atomLabel\",\"X\")\n",
    "        \n",
    "    PKS_product_w_CoA = attach_CoA_rxn.RunReactants((PKS_product_w_F, CoA_group))[0][0]\n",
    "    return PKS_product_w_CoA"
   ],
   "id": "48fd5c05b54a8001",
   "outputs": [],
   "execution_count": 19
  },
  {
   "metadata": {
    "ExecuteTime": {
     "end_time": "2025-01-30T10:22:08.410076Z",
     "start_time": "2025-01-30T10:22:08.405919Z"
    }
   },
   "cell_type": "code",
   "source": [
    "def detach_CoA_frm_labelled_PKS_product(PKS_product_w_CoA: Mol):\n",
    "    detach_CoA_rxn_pattern = '[C,c:1]-[S:3]-[C:4]-[C:5]-[N:6]>>[C,c:1].[S:3]-[C:4]-[C:5]-[N:6]'\n",
    "    detach_CoA_rxn = AllChem.ReactionFromSmarts(detach_CoA_rxn_pattern)\n",
    "    labelled_PKS_product = detach_CoA_rxn.RunReactants((PKS_product_w_CoA,))[0][0]\n",
    "    return labelled_PKS_product"
   ],
   "id": "35a87aabc69f92fa",
   "outputs": [],
   "execution_count": 20
  },
  {
   "metadata": {
    "ExecuteTime": {
     "end_time": "2025-01-30T10:22:08.970180Z",
     "start_time": "2025-01-30T10:22:08.965785Z"
    }
   },
   "cell_type": "code",
   "source": [
    "farthest_carbon_idx, farthest_distance = find_farthest_carbon_from_sulfur(PKS_product)\n",
    "PKS_product_w_F = add_fluorine_to_farthest_carbon(PKS_product, farthest_carbon_idx)\n",
    "PKS_product_w_CoA = replace_fluorine_with_CoA(PKS_product_w_F)"
   ],
   "id": "ea0802617b5fafbd",
   "outputs": [],
   "execution_count": 21
  },
  {
   "metadata": {
    "ExecuteTime": {
     "end_time": "2025-01-30T10:22:09.200506Z",
     "start_time": "2025-01-30T10:22:09.180226Z"
    }
   },
   "cell_type": "code",
   "source": "PKS_product_w_CoA",
   "id": "f99104bdefdb5bfb",
   "outputs": [
    {
     "data": {
      "text/plain": [
       "<rdkit.Chem.rdchem.Mol at 0x7fd1557945f0>"
      ],
      "image/png": "[encoded data removed]"
     },
     "execution_count": 22,
     "metadata": {},
     "output_type": "execute_result"
    }
   ],
   "execution_count": 22
  },
  {
   "metadata": {
    "ExecuteTime": {
     "end_time": "2025-01-30T10:22:09.496899Z",
     "start_time": "2025-01-30T10:22:09.481018Z"
    }
   },
   "cell_type": "code",
   "source": "detach_CoA_frm_labelled_PKS_product(PKS_product_w_CoA)",
   "id": "de70185b06c10c8f",
   "outputs": [
    {
     "data": {
      "text/plain": [
       "<rdkit.Chem.rdchem.Mol at 0x7fd155794b30>"
      ],
      "image/png": "[encoded data removed]"
     },
     "execution_count": 23,
     "metadata": {},
     "output_type": "execute_result"
    }
   ],
   "execution_count": 23
  },
  {
   "metadata": {
    "ExecuteTime": {
     "end_time": "2025-01-30T10:26:30.939534Z",
     "start_time": "2025-01-30T10:26:30.933247Z"
    }
   },
   "cell_type": "code",
   "source": [
    "# label all atoms in the PKS product generated by an initial loading module\n",
    "\n",
    "LM_AT_domain = bcs.AT(active = True, substrate = \"benz\")\n",
    "LM = bcs.Module(domains = {bcs.AT: LM_AT_domain}, loading = True)\n",
    "\n",
    "LM_cluster  = bcs.Cluster(modules = [LM])\n",
    "LM_product = LM_cluster.computeProduct(structureDB)\n",
    "\n",
    "farthest_carbon_idx, _ = find_farthest_carbon_from_sulfur(LM_product)\n",
    "LM_product_w_F = add_fluorine_to_farthest_carbon(LM_product, farthest_carbon_idx)\n",
    "LM_product_w_CoA = replace_fluorine_with_CoA(LM_product_w_F)\n",
    "LM_product_wo_CoA = detach_CoA_frm_labelled_PKS_product(LM_product_w_CoA)\n",
    "\n",
    "for atom in LM_product_wo_CoA.GetAtoms():\n",
    "    if atom.HasProp(\"atomLabel\") == 0:\n",
    "        atom.SetProp(\"atomLabel\",\"LM\")"
   ],
   "id": "e9c9349de8b23418",
   "outputs": [],
   "execution_count": 27
  },
  {
   "metadata": {
    "ExecuteTime": {
     "end_time": "2025-01-30T10:26:31.668254Z",
     "start_time": "2025-01-30T10:26:31.654355Z"
    }
   },
   "cell_type": "code",
   "source": "LM_product_wo_CoA",
   "id": "969d40bec5d0f915",
   "outputs": [
    {
     "data": {
      "text/plain": [
       "<rdkit.Chem.rdchem.Mol at 0x7fd155794430>"
      ],
      "image/png": "[encoded data removed]"
     },
     "execution_count": 28,
     "metadata": {},
     "output_type": "execute_result"
    }
   ],
   "execution_count": 28
  },
  {
   "metadata": {
    "ExecuteTime": {
     "end_time": "2025-01-30T16:06:49.891308Z",
     "start_time": "2025-01-30T16:06:49.882620Z"
    }
   },
   "cell_type": "code",
   "source": [
    "# label all atoms in the PKS product generated by the first extension module\n",
    "# we can do this by finding substructure matches between the module 1 product and loading module product\n",
    "\n",
    "### Define the loading module and label carbons\n",
    "LM_AT_domain = bcs.AT(active = True, substrate = \"Methylmalonyl-CoA\")\n",
    "LM = bcs.Module(domains = {bcs.AT: LM_AT_domain}, loading = True)\n",
    "LM_cluster = bcs.Cluster(modules = [LM])\n",
    "LM_product = LM_cluster.computeProduct(structureDB)\n",
    "\n",
    "farthest_carbon_idx, _ = find_farthest_carbon_from_sulfur(LM_product)\n",
    "LM_product_w_F = add_fluorine_to_farthest_carbon(LM_product, farthest_carbon_idx)\n",
    "LM_product_w_CoA = replace_fluorine_with_CoA(LM_product_w_F)\n",
    "LM_product_wo_CoA = detach_CoA_frm_labelled_PKS_product(LM_product_w_CoA)\n",
    "\n",
    "for atom in LM_product_wo_CoA.GetAtoms():\n",
    "    if atom.HasProp(\"atomLabel\") == 0:\n",
    "        atom.SetProp(\"atomLabel\",\"LM\")\n",
    "\n",
    "### Define the first extension module\n",
    "Mod1_AT_domain = bcs.AT(active = True, substrate = \"Methylmalonyl-CoA\")\n",
    "Mod1 = bcs.Module(domains = {bcs.AT: Mod1_AT_domain}, loading = False)\n",
    "Mod1_cluster = bcs.Cluster(modules = [LM ,Mod1])\n",
    "Mod1_product = Mod1_cluster.computeProduct(structureDB)\n",
    "\n",
    "farthest_carbon_idx, _ = find_farthest_carbon_from_sulfur(Mod1_product)\n",
    "Mod1_product_w_F = add_fluorine_to_farthest_carbon(Mod1_product, farthest_carbon_idx)\n",
    "Mod1_product_w_CoA = replace_fluorine_with_CoA(Mod1_product_w_F)"
   ],
   "id": "6dc0323ae9986c0",
   "outputs": [],
   "execution_count": 74
  },
  {
   "metadata": {
    "ExecuteTime": {
     "end_time": "2025-01-30T16:06:50.554919Z",
     "start_time": "2025-01-30T16:06:50.547411Z"
    }
   },
   "cell_type": "code",
   "source": [
    "# find substructure matches between the module 1 product and loading module product while both have a -CoA attached\n",
    "# the large -CoA group attached to the carbon farthest from the sulfur radical (i.e. ACP placeholder) helps align the various PKS products\n",
    "substruct_result = rdFMCS.FindMCS([LM_product_w_CoA, Mod1_product_w_CoA],\n",
    "                                  timeout = 1,\n",
    "                                  matchChiralTag = False,\n",
    "                                  bondCompare = Chem.rdFMCS.BondCompare.CompareOrderExact)\n",
    "\n",
    "match = Mod1_product_w_CoA.GetSubstructMatch(substruct_result.queryMol)\n",
    "\n",
    "# for each atom in the first extension module's product\n",
    "for atom in Mod1_product_w_CoA.GetAtoms():\n",
    "    \n",
    "    # any atoms not in the MCS match were added on by the first extension module\n",
    "    if atom.GetIdx() not in match:\n",
    "        if atom.HasProp(\"atomLabel\") == 0:\n",
    "            atom.SetProp(\"atomLabel\", \"M1\")\n",
    "            \n",
    "    # any atoms present in the MCS match were initialized by the loading module\n",
    "    if atom.GetIdx() in match:\n",
    "        if atom.HasProp(\"atomLabel\") == 0:\n",
    "            atom.SetProp(\"atomLabel\", \"LM\")\n",
    "            \n",
    "# finally, detach the -CoA group from the first extension module\n",
    "Mod1_product_wo_CoA = detach_CoA_frm_labelled_PKS_product(Mod1_product_w_CoA)\n",
    "\n",
    "# any unlabelled atoms in the final product were placed by the loading module\n",
    "for atom in Mod1_product_wo_CoA.GetAtoms():\n",
    "    if atom.HasProp(\"atomLabel\")==0:\n",
    "        atom.SetProp(\"atomLabel\", \"LM\")"
   ],
   "id": "ba5893a1e9c00aa4",
   "outputs": [],
   "execution_count": 75
  },
  {
   "metadata": {
    "ExecuteTime": {
     "end_time": "2025-01-30T16:06:51.344150Z",
     "start_time": "2025-01-30T16:06:51.331344Z"
    }
   },
   "cell_type": "code",
   "source": "Mod1_product_wo_CoA",
   "id": "798bd446e0d755bb",
   "outputs": [
    {
     "data": {
      "text/plain": [
       "<rdkit.Chem.rdchem.Mol at 0x7fd155be3660>"
      ],
      "image/png": "[encoded data removed]"
     },
     "execution_count": 76,
     "metadata": {},
     "output_type": "execute_result"
    }
   ],
   "execution_count": 76
  },
  {
   "metadata": {
    "ExecuteTime": {
     "end_time": "2025-01-31T04:30:13.777288Z",
     "start_time": "2025-01-31T04:30:13.753238Z"
    }
   },
   "cell_type": "code",
   "source": [
    "def create_atom_maps(cluster: bcs.Cluster) -> List[Mol]:\n",
    "    \n",
    "    modules_list = cluster.modules\n",
    "    atom_labels_list = [f\"LM\" if i == 0 else f\"M{i}\" for i in range(len(modules_list))]\n",
    "    labelled_mols_list = []\n",
    "    \n",
    "    for module_num in range(0,len(modules_list)):\n",
    "        \n",
    "        # for the loading module specifically\n",
    "        if module_num == 0:\n",
    "            \n",
    "            # generate the loading module product\n",
    "            cluster = bcs.Cluster(modules = [ modules_list[0] ]) # input to bcs.Cluster is list of modules\n",
    "            LM_product = cluster.computeProduct(structureDB)\n",
    "            \n",
    "            # attach a florine atom to the farthest carbon from the sulfur radical (ACP placeholder)\n",
    "            farthest_carbon_idx, _ = find_farthest_carbon_from_sulfur(LM_product)\n",
    "            LM_product_w_F = add_fluorine_to_farthest_carbon(LM_product, farthest_carbon_idx)\n",
    "            \n",
    "            # then swap the florine for a -CoA group so all PKS products can be easily aligned\n",
    "            LM_product_w_CoA = replace_fluorine_with_CoA(LM_product_w_F)\n",
    "            \n",
    "            for atom in LM_product_w_CoA.GetAtoms():\n",
    "                if atom.HasProp(\"atomLabel\") == 0:\n",
    "                    atom.SetProp(\"atomLabel\",\"LM\")\n",
    "                    \n",
    "            labelled_mols_list.append(LM_product_w_CoA)\n",
    "            \n",
    "        else:\n",
    "            \n",
    "            current_modules_sublist = modules_list[0:(module_num+1)]\n",
    "            atom_labels_sublist = atom_labels_list[0:(module_num+1)]\n",
    "            current_cluster = bcs.Cluster(modules = current_modules_sublist)\n",
    "            current_product = current_cluster.computeProduct(structureDB)\n",
    "            \n",
    "            # similar to the loading module, attach a fluorine to the farthest carbon atom from ACP\n",
    "            farthest_carbon_idx, _ = find_farthest_carbon_from_sulfur(current_product)\n",
    "            current_product_w_F = add_fluorine_to_farthest_carbon(current_product, farthest_carbon_idx)\n",
    "            current_product_w_CoA = replace_fluorine_with_CoA(current_product_w_F)\n",
    "            \n",
    "            # for each previous_product starting from up until the previous module\n",
    "            for i, previous_product_w_CoA in enumerate(labelled_mols_list[::-1]):\n",
    "                \n",
    "                MCS_result = rdFMCS.FindMCS([current_product_w_CoA, previous_product_w_CoA], \n",
    "                                            timeout = 1,\n",
    "                                            matchChiralTag = False,\n",
    "                                            bondCompare = Chem.rdFMCS.BondCompare.CompareOrderExact)\n",
    "                \n",
    "                match = current_product_w_CoA.GetSubstructMatch(MCS_result.queryMol)\n",
    "                \n",
    "                label = atom_labels_sublist[::-1][i]\n",
    "                \n",
    "                for atom in current_product_w_CoA.GetAtoms():\n",
    "                    if atom.GetIdx() not in match:\n",
    "                        if atom.HasProp(\"atomLabel\") == 0:\n",
    "                            atom.SetProp(\"atomLabel\", label)\n",
    "                            \n",
    "            labelled_mols_list.append(current_product_w_CoA)\n",
    "            \n",
    "    # for all the labelled PKS substrates, detach the -CoA group\n",
    "    final_mols_list = [detach_CoA_frm_labelled_PKS_product(mol) for mol in labelled_mols_list]\n",
    "    \n",
    "    # finally, label atoms that were previously attached to the -CoA group with \"LM\"\n",
    "    for mol in final_mols_list:\n",
    "        for atom in mol.GetAtoms():\n",
    "            if atom.HasProp(\"atomLabel\")==0:\n",
    "                atom.SetProp(\"atomLabel\",\"LM\")\n",
    "                \n",
    "    return final_mols_list"
   ],
   "id": "29aa0f855c893d59",
   "outputs": [],
   "execution_count": 114
  },
  {
   "metadata": {
    "ExecuteTime": {
     "end_time": "2025-01-31T04:30:35.399050Z",
     "start_time": "2025-01-31T04:30:35.317284Z"
    }
   },
   "cell_type": "code",
   "source": [
    "LM_AT_domain = bcs.AT(active = True, substrate = \"Methylmalonyl-CoA\")\n",
    "LM = bcs.Module(domains = {bcs.AT: LM_AT_domain}, loading = True)\n",
    "\n",
    "M1_AT_domain = bcs.AT(active = True, substrate = \"Methylmalonyl-CoA\")\n",
    "M1_KR_domain = bcs.KR(active = True, type = \"B1\")\n",
    "M1 = bcs.Module(domains = {bcs.AT: M1_AT_domain,\n",
    "                           bcs.KR: M1_KR_domain}, loading = False)\n",
    "\n",
    "M2_AT_domain = bcs.AT(active = True, substrate = \"Methylmalonyl-CoA\")\n",
    "M2_KR_domain = bcs.KR(active = True, type = \"B1\")\n",
    "M2 = bcs.Module(domains = {bcs.AT: M2_AT_domain,\n",
    "                           bcs.KR: M2_KR_domain}, loading = False)\n",
    "\n",
    "PKS_cluster = bcs.Cluster(modules = [LM, M1, M2])"
   ],
   "id": "b25b100f989c3fb5",
   "outputs": [
    {
     "data": {
      "text/plain": [
       "<rdkit.Chem.rdchem.Mol at 0x7fd158e08dd0>"
      ],
      "image/png": "[encoded data removed]"
     },
     "execution_count": 117,
     "metadata": {},
     "output_type": "execute_result"
    }
   ],
   "execution_count": 117
  },
  {
   "metadata": {
    "ExecuteTime": {
     "end_time": "2025-01-31T04:04:59.470742Z",
     "start_time": "2025-01-31T04:04:59.462151Z"
    }
   },
   "cell_type": "code",
   "source": "create_atom_maps(PKS_cluster)",
   "id": "1308cab9a903d255",
   "outputs": [
    {
     "data": {
      "text/plain": [
       "[[\"AT{'substrate': 'prop'}\", 'loading: True']]"
      ]
     },
     "execution_count": 91,
     "metadata": {},
     "output_type": "execute_result"
    }
   ],
   "execution_count": 91
  },
  {
   "metadata": {},
   "cell_type": "code",
   "outputs": [],
   "execution_count": null,
   "source": "",
   "id": "5c6dc67bb682e72e"
  },
  {
   "metadata": {},
   "cell_type": "code",
   "outputs": [],
   "execution_count": null,
   "source": "",
   "id": "a3c4ab7be8006385"
  },
  {
   "metadata": {},
   "cell_type": "code",
   "outputs": [],
   "execution_count": null,
   "source": "",
   "id": "46ae290dd02b06cc"
  },
  {
   "metadata": {},
   "cell_type": "code",
   "outputs": [],
   "execution_count": null,
   "source": "",
   "id": "a6e68def44548b8"
  },
  {
   "metadata": {},
   "cell_type": "code",
   "outputs": [],
   "execution_count": null,
   "source": "",
   "id": "8cfe717700ce9a85"
  },
  {
   "metadata": {},
   "cell_type": "code",
   "outputs": [],
   "execution_count": null,
   "source": "",
   "id": "2dbecb70486061cb"
  },
  {
   "metadata": {},
   "cell_type": "code",
   "outputs": [],
   "execution_count": null,
   "source": "",
   "id": "a3ae645a8516a0fc"
  },
  {
   "metadata": {},
   "cell_type": "code",
   "outputs": [],
   "execution_count": null,
   "source": "",
   "id": "e4d78b84c649c12f"
  },
  {
   "metadata": {},
   "cell_type": "code",
   "outputs": [],
   "execution_count": null,
   "source": "",
   "id": "45165d63c4b1eef0"
  },
  {
   "metadata": {},
   "cell_type": "code",
   "outputs": [],
   "execution_count": null,
   "source": "",
   "id": "26f50c8c0747b24"
  },
  {
   "metadata": {},
   "cell_type": "code",
   "outputs": [],
   "execution_count": null,
   "source": "",
   "id": "4e291b0b157ca4cc"
  },
  {
   "metadata": {},
   "cell_type": "code",
   "outputs": [],
   "execution_count": null,
   "source": "",
   "id": "85b4678cca8a8038"
  },
  {
   "metadata": {},
   "cell_type": "code",
   "outputs": [],
   "execution_count": null,
   "source": "",
   "id": "b4da54bc71636cb5"
  },
  {
   "metadata": {},
   "cell_type": "code",
   "outputs": [],
   "execution_count": null,
   "source": "",
   "id": "16ced88d22096d63"
  },
  {
   "metadata": {},
   "cell_type": "code",
   "outputs": [],
   "execution_count": null,
   "source": "",
   "id": "46c71dc2fce27f9d"
  }
 ],
 "metadata": {
  "kernelspec": {
   "display_name": "DORA_XGB_env",
   "language": "python",
   "name": "dora_xgb_env"
  },
  "language_info": {
   "codemirror_mode": {
    "name": "ipython",
    "version": 3
   },
   "file_extension": ".py",
   "mimetype": "text/x-python",
   "name": "python",
   "nbconvert_exporter": "python",
   "pygments_lexer": "ipython3",
   "version": "3.8.19"
  }
 },
 "nbformat": 4,
 "nbformat_minor": 5
}
